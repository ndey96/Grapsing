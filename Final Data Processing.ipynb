{
 "cells": [
  {
   "cell_type": "code",
   "execution_count": 1,
   "metadata": {
    "collapsed": true
   },
   "outputs": [],
   "source": [
    "import numpy as np\n",
    "import pandas as pd"
   ]
  },
  {
   "cell_type": "code",
   "execution_count": 2,
   "metadata": {},
   "outputs": [
    {
     "name": "stdout",
     "output_type": "stream",
     "text": [
      "\u001b[31mdepth_training_image_data.npy\u001b[m\u001b[m*\r\n",
      "depth_validation_image_data.npy\r\n",
      "flipped_neg_data_in_camera_coordinates.csv\r\n",
      "\u001b[31mmatched_neg_data_in_camera_coordinates.csv\u001b[m\u001b[m*\r\n",
      "\u001b[31mmatched_pos_data_in_camera_coordinates.csv\u001b[m\u001b[m*\r\n",
      "\u001b[31mprior_compact.npy\u001b[m\u001b[m*\r\n",
      "\u001b[31mprior_pos.npy\u001b[m\u001b[m*\r\n",
      "\u001b[31mtraining_image_data.npy\u001b[m\u001b[m*\r\n",
      "\u001b[31mtraining_uids.npy\u001b[m\u001b[m*\r\n",
      "\u001b[31muids.npy\u001b[m\u001b[m*\r\n",
      "\u001b[31mvalidation_image_data.npy\u001b[m\u001b[m*\r\n",
      "\u001b[31mvalidation_uids.npy\u001b[m\u001b[m*\r\n"
     ]
    }
   ],
   "source": [
    "ls Data"
   ]
  },
  {
   "cell_type": "code",
   "execution_count": 20,
   "metadata": {},
   "outputs": [],
   "source": [
    "pos_df = pd.read_csv('Data/matched_pos_data_in_camera_coordinates.csv', index_col='id')\n",
    "neg_df = pd.read_csv('Data/flipped_neg_data_in_camera_coordinates.csv', index_col='id')\n",
    "tuids = np.load('Data/training_uids.npy')\n",
    "vuids = np.load('Data/validation_uids.npy')"
   ]
  },
  {
   "cell_type": "code",
   "execution_count": 21,
   "metadata": {},
   "outputs": [
    {
     "data": {
      "text/html": [
       "<div>\n",
       "<style scoped>\n",
       "    .dataframe tbody tr th:only-of-type {\n",
       "        vertical-align: middle;\n",
       "    }\n",
       "\n",
       "    .dataframe tbody tr th {\n",
       "        vertical-align: top;\n",
       "    }\n",
       "\n",
       "    .dataframe thead th {\n",
       "        text-align: right;\n",
       "    }\n",
       "</style>\n",
       "<table border=\"1\" class=\"dataframe\">\n",
       "  <thead>\n",
       "    <tr style=\"text-align: right;\">\n",
       "      <th></th>\n",
       "      <th>x</th>\n",
       "      <th>y</th>\n",
       "      <th>z</th>\n",
       "      <th>rx</th>\n",
       "      <th>ry</th>\n",
       "      <th>rz</th>\n",
       "      <th>rot_mag</th>\n",
       "    </tr>\n",
       "    <tr>\n",
       "      <th>id</th>\n",
       "      <th></th>\n",
       "      <th></th>\n",
       "      <th></th>\n",
       "      <th></th>\n",
       "      <th></th>\n",
       "      <th></th>\n",
       "      <th></th>\n",
       "    </tr>\n",
       "  </thead>\n",
       "  <tbody>\n",
       "    <tr>\n",
       "      <th>101807</th>\n",
       "      <td>-0.043541</td>\n",
       "      <td>0.030550</td>\n",
       "      <td>0.479822</td>\n",
       "      <td>0.826096</td>\n",
       "      <td>0.214983</td>\n",
       "      <td>-0.520911</td>\n",
       "      <td>4.493957</td>\n",
       "    </tr>\n",
       "    <tr>\n",
       "      <th>101808</th>\n",
       "      <td>-0.032498</td>\n",
       "      <td>0.032890</td>\n",
       "      <td>0.480456</td>\n",
       "      <td>-0.844740</td>\n",
       "      <td>-0.201629</td>\n",
       "      <td>0.495742</td>\n",
       "      <td>1.783953</td>\n",
       "    </tr>\n",
       "    <tr>\n",
       "      <th>101809</th>\n",
       "      <td>-0.004123</td>\n",
       "      <td>-0.024758</td>\n",
       "      <td>0.427839</td>\n",
       "      <td>-0.794870</td>\n",
       "      <td>0.535198</td>\n",
       "      <td>-0.285909</td>\n",
       "      <td>1.898687</td>\n",
       "    </tr>\n",
       "    <tr>\n",
       "      <th>101811</th>\n",
       "      <td>-0.049009</td>\n",
       "      <td>0.032504</td>\n",
       "      <td>0.471790</td>\n",
       "      <td>0.840673</td>\n",
       "      <td>0.279357</td>\n",
       "      <td>-0.463926</td>\n",
       "      <td>4.501211</td>\n",
       "    </tr>\n",
       "    <tr>\n",
       "      <th>101812</th>\n",
       "      <td>-0.046870</td>\n",
       "      <td>0.029357</td>\n",
       "      <td>0.475877</td>\n",
       "      <td>-0.845062</td>\n",
       "      <td>-0.201496</td>\n",
       "      <td>0.495246</td>\n",
       "      <td>1.817191</td>\n",
       "    </tr>\n",
       "  </tbody>\n",
       "</table>\n",
       "</div>"
      ],
      "text/plain": [
       "               x         y         z        rx        ry        rz   rot_mag\n",
       "id                                                                          \n",
       "101807 -0.043541  0.030550  0.479822  0.826096  0.214983 -0.520911  4.493957\n",
       "101808 -0.032498  0.032890  0.480456 -0.844740 -0.201629  0.495742  1.783953\n",
       "101809 -0.004123 -0.024758  0.427839 -0.794870  0.535198 -0.285909  1.898687\n",
       "101811 -0.049009  0.032504  0.471790  0.840673  0.279357 -0.463926  4.501211\n",
       "101812 -0.046870  0.029357  0.475877 -0.845062 -0.201496  0.495246  1.817191"
      ]
     },
     "execution_count": 21,
     "metadata": {},
     "output_type": "execute_result"
    }
   ],
   "source": [
    "pos_df.head()"
   ]
  },
  {
   "cell_type": "code",
   "execution_count": 25,
   "metadata": {},
   "outputs": [
    {
     "data": {
      "text/plain": [
       "array([-0.08349976, -0.0438813 ,  0.49236225,  0.05590329,  0.88374049,\n",
       "       -0.46462626,  3.63444072])"
      ]
     },
     "execution_count": 25,
     "metadata": {},
     "output_type": "execute_result"
    }
   ],
   "source": [
    "pos_df.loc[vuids[999]].values"
   ]
  },
  {
   "cell_type": "code",
   "execution_count": 28,
   "metadata": {
    "collapsed": true
   },
   "outputs": [],
   "source": [
    "pos_val_poses = np.zeros((vuids.shape[0], 7))\n",
    "neg_val_poses = np.zeros((vuids.shape[0], 7))\n",
    "for i, uid in enumerate(vuids):\n",
    "    pos_val_poses[i] = pos_df.loc[uid].values\n",
    "    neg_val_poses[i] = neg_df.loc[uid].values\n",
    "    \n",
    "pos_train_poses = np.zeros((tuids.shape[0], 7))\n",
    "neg_train_poses = np.zeros((tuids.shape[0], 7))\n",
    "for i, uid in enumerate(tuids):\n",
    "    pos_train_poses[i] = pos_df.loc[uid].values\n",
    "    neg_train_poses[i] = neg_df.loc[uid].values"
   ]
  },
  {
   "cell_type": "code",
   "execution_count": 31,
   "metadata": {},
   "outputs": [],
   "source": [
    "np.save('pos_val_poses.npy', pos_val_poses)\n",
    "np.save('neg_val_poses.npy', neg_val_poses)\n",
    "np.save('pos_train_poses.npy', pos_train_poses)\n",
    "np.save('neg_train_poses.npy', neg_train_poses)"
   ]
  },
  {
   "cell_type": "code",
   "execution_count": null,
   "metadata": {
    "collapsed": true
   },
   "outputs": [],
   "source": []
  }
 ],
 "metadata": {
  "kernelspec": {
   "display_name": "Python 3",
   "language": "python",
   "name": "python3"
  },
  "language_info": {
   "codemirror_mode": {
    "name": "ipython",
    "version": 3
   },
   "file_extension": ".py",
   "mimetype": "text/x-python",
   "name": "python",
   "nbconvert_exporter": "python",
   "pygments_lexer": "ipython3",
   "version": "3.6.4"
  }
 },
 "nbformat": 4,
 "nbformat_minor": 2
}
