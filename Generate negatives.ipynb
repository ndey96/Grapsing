{
 "cells": [
  {
   "cell_type": "code",
   "execution_count": 3,
   "metadata": {},
   "outputs": [
    {
     "name": "stdout",
     "output_type": "stream",
     "text": [
      "\u001b[31mdepth_training_image_data.npy\u001b[m\u001b[m*\r\n",
      "depth_validation_image_data.npy\r\n",
      "flipped_neg_data_in_camera_coordinates.csv\r\n",
      "\u001b[31mmatched_neg_data_in_camera_coordinates.csv\u001b[m\u001b[m*\r\n",
      "\u001b[31mmatched_pos_data_in_camera_coordinates.csv\u001b[m\u001b[m*\r\n",
      "neg_train_poses.npy\r\n",
      "neg_val_poses.npy\r\n",
      "pos_train_poses.npy\r\n",
      "pos_val_poses.npy\r\n",
      "\u001b[31mprior_compact.npy\u001b[m\u001b[m*\r\n",
      "\u001b[31mprior_pos.npy\u001b[m\u001b[m*\r\n",
      "\u001b[31mtraining_image_data.npy\u001b[m\u001b[m*\r\n",
      "\u001b[31mtraining_uids.npy\u001b[m\u001b[m*\r\n",
      "\u001b[31muids.npy\u001b[m\u001b[m*\r\n",
      "\u001b[31mvalidation_image_data.npy\u001b[m\u001b[m*\r\n",
      "\u001b[31mvalidation_uids.npy\u001b[m\u001b[m*\r\n"
     ]
    }
   ],
   "source": [
    "ls Data"
   ]
  },
  {
   "cell_type": "code",
   "execution_count": 2,
   "metadata": {
    "collapsed": true
   },
   "outputs": [],
   "source": [
    "import pandas as pd\n",
    "import numpy as np\n",
    "import matplotlib.pyplot as plt"
   ]
  },
  {
   "cell_type": "code",
   "execution_count": 3,
   "metadata": {},
   "outputs": [
    {
     "data": {
      "text/html": [
       "<div>\n",
       "<style scoped>\n",
       "    .dataframe tbody tr th:only-of-type {\n",
       "        vertical-align: middle;\n",
       "    }\n",
       "\n",
       "    .dataframe tbody tr th {\n",
       "        vertical-align: top;\n",
       "    }\n",
       "\n",
       "    .dataframe thead th {\n",
       "        text-align: right;\n",
       "    }\n",
       "</style>\n",
       "<table border=\"1\" class=\"dataframe\">\n",
       "  <thead>\n",
       "    <tr style=\"text-align: right;\">\n",
       "      <th></th>\n",
       "      <th>id</th>\n",
       "      <th>x</th>\n",
       "      <th>y</th>\n",
       "      <th>z</th>\n",
       "      <th>rx</th>\n",
       "      <th>ry</th>\n",
       "      <th>rz</th>\n",
       "      <th>rot_mag</th>\n",
       "    </tr>\n",
       "  </thead>\n",
       "  <tbody>\n",
       "    <tr>\n",
       "      <th>0</th>\n",
       "      <td>101807</td>\n",
       "      <td>0.015793</td>\n",
       "      <td>-0.088000</td>\n",
       "      <td>0.712694</td>\n",
       "      <td>-0.773557</td>\n",
       "      <td>0.633598</td>\n",
       "      <td>0.012752</td>\n",
       "      <td>1.972365</td>\n",
       "    </tr>\n",
       "    <tr>\n",
       "      <th>1</th>\n",
       "      <td>101808</td>\n",
       "      <td>0.008519</td>\n",
       "      <td>0.031129</td>\n",
       "      <td>0.467747</td>\n",
       "      <td>-0.812471</td>\n",
       "      <td>-0.165665</td>\n",
       "      <td>0.558969</td>\n",
       "      <td>1.727736</td>\n",
       "    </tr>\n",
       "    <tr>\n",
       "      <th>2</th>\n",
       "      <td>101809</td>\n",
       "      <td>0.029964</td>\n",
       "      <td>0.048911</td>\n",
       "      <td>0.561772</td>\n",
       "      <td>-0.923947</td>\n",
       "      <td>0.366458</td>\n",
       "      <td>0.109682</td>\n",
       "      <td>2.738959</td>\n",
       "    </tr>\n",
       "    <tr>\n",
       "      <th>3</th>\n",
       "      <td>101811</td>\n",
       "      <td>-0.015806</td>\n",
       "      <td>0.026273</td>\n",
       "      <td>0.480984</td>\n",
       "      <td>-0.745053</td>\n",
       "      <td>0.177944</td>\n",
       "      <td>0.642831</td>\n",
       "      <td>2.202467</td>\n",
       "    </tr>\n",
       "    <tr>\n",
       "      <th>4</th>\n",
       "      <td>101812</td>\n",
       "      <td>-0.001137</td>\n",
       "      <td>0.055871</td>\n",
       "      <td>0.454105</td>\n",
       "      <td>0.175560</td>\n",
       "      <td>0.811216</td>\n",
       "      <td>0.557770</td>\n",
       "      <td>4.561969</td>\n",
       "    </tr>\n",
       "  </tbody>\n",
       "</table>\n",
       "</div>"
      ],
      "text/plain": [
       "       id         x         y         z        rx        ry        rz  \\\n",
       "0  101807  0.015793 -0.088000  0.712694 -0.773557  0.633598  0.012752   \n",
       "1  101808  0.008519  0.031129  0.467747 -0.812471 -0.165665  0.558969   \n",
       "2  101809  0.029964  0.048911  0.561772 -0.923947  0.366458  0.109682   \n",
       "3  101811 -0.015806  0.026273  0.480984 -0.745053  0.177944  0.642831   \n",
       "4  101812 -0.001137  0.055871  0.454105  0.175560  0.811216  0.557770   \n",
       "\n",
       "    rot_mag  \n",
       "0  1.972365  \n",
       "1  1.727736  \n",
       "2  2.738959  \n",
       "3  2.202467  \n",
       "4  4.561969  "
      ]
     },
     "execution_count": 3,
     "metadata": {},
     "output_type": "execute_result"
    }
   ],
   "source": [
    "df = pd.read_csv('matched_neg_data_in_camera_coordinates.csv', delimiter=',')\n",
    "df.head()"
   ]
  },
  {
   "cell_type": "code",
   "execution_count": 4,
   "metadata": {},
   "outputs": [
    {
     "data": {
      "text/plain": [
       "<matplotlib.axes._subplots.AxesSubplot at 0x118d844e0>"
      ]
     },
     "execution_count": 4,
     "metadata": {},
     "output_type": "execute_result"
    },
    {
     "data": {
      "image/png": "[encoded data removed]",
      "text/plain": [
       "<Figure size 432x288 with 1 Axes>"
      ]
     },
     "metadata": {},
     "output_type": "display_data"
    }
   ],
   "source": [
    "df['rot_mag'].hist(bins=1000)"
   ]
  },
  {
   "cell_type": "code",
   "execution_count": 5,
   "metadata": {
    "collapsed": true
   },
   "outputs": [],
   "source": [
    "df['rot_mag'] = (df['rot_mag'] - np.pi)%(2*np.pi)"
   ]
  },
  {
   "cell_type": "code",
   "execution_count": 6,
   "metadata": {},
   "outputs": [
    {
     "data": {
      "text/html": [
       "<div>\n",
       "<style scoped>\n",
       "    .dataframe tbody tr th:only-of-type {\n",
       "        vertical-align: middle;\n",
       "    }\n",
       "\n",
       "    .dataframe tbody tr th {\n",
       "        vertical-align: top;\n",
       "    }\n",
       "\n",
       "    .dataframe thead th {\n",
       "        text-align: right;\n",
       "    }\n",
       "</style>\n",
       "<table border=\"1\" class=\"dataframe\">\n",
       "  <thead>\n",
       "    <tr style=\"text-align: right;\">\n",
       "      <th></th>\n",
       "      <th>id</th>\n",
       "      <th>x</th>\n",
       "      <th>y</th>\n",
       "      <th>z</th>\n",
       "      <th>rx</th>\n",
       "      <th>ry</th>\n",
       "      <th>rz</th>\n",
       "      <th>rot_mag</th>\n",
       "    </tr>\n",
       "  </thead>\n",
       "  <tbody>\n",
       "    <tr>\n",
       "      <th>0</th>\n",
       "      <td>101807</td>\n",
       "      <td>0.015793</td>\n",
       "      <td>-0.088000</td>\n",
       "      <td>0.712694</td>\n",
       "      <td>-0.773557</td>\n",
       "      <td>0.633598</td>\n",
       "      <td>0.012752</td>\n",
       "      <td>5.113958</td>\n",
       "    </tr>\n",
       "    <tr>\n",
       "      <th>1</th>\n",
       "      <td>101808</td>\n",
       "      <td>0.008519</td>\n",
       "      <td>0.031129</td>\n",
       "      <td>0.467747</td>\n",
       "      <td>-0.812471</td>\n",
       "      <td>-0.165665</td>\n",
       "      <td>0.558969</td>\n",
       "      <td>4.869329</td>\n",
       "    </tr>\n",
       "    <tr>\n",
       "      <th>2</th>\n",
       "      <td>101809</td>\n",
       "      <td>0.029964</td>\n",
       "      <td>0.048911</td>\n",
       "      <td>0.561772</td>\n",
       "      <td>-0.923947</td>\n",
       "      <td>0.366458</td>\n",
       "      <td>0.109682</td>\n",
       "      <td>5.880551</td>\n",
       "    </tr>\n",
       "    <tr>\n",
       "      <th>3</th>\n",
       "      <td>101811</td>\n",
       "      <td>-0.015806</td>\n",
       "      <td>0.026273</td>\n",
       "      <td>0.480984</td>\n",
       "      <td>-0.745053</td>\n",
       "      <td>0.177944</td>\n",
       "      <td>0.642831</td>\n",
       "      <td>5.344059</td>\n",
       "    </tr>\n",
       "    <tr>\n",
       "      <th>4</th>\n",
       "      <td>101812</td>\n",
       "      <td>-0.001137</td>\n",
       "      <td>0.055871</td>\n",
       "      <td>0.454105</td>\n",
       "      <td>0.175560</td>\n",
       "      <td>0.811216</td>\n",
       "      <td>0.557770</td>\n",
       "      <td>1.420376</td>\n",
       "    </tr>\n",
       "  </tbody>\n",
       "</table>\n",
       "</div>"
      ],
      "text/plain": [
       "       id         x         y         z        rx        ry        rz  \\\n",
       "0  101807  0.015793 -0.088000  0.712694 -0.773557  0.633598  0.012752   \n",
       "1  101808  0.008519  0.031129  0.467747 -0.812471 -0.165665  0.558969   \n",
       "2  101809  0.029964  0.048911  0.561772 -0.923947  0.366458  0.109682   \n",
       "3  101811 -0.015806  0.026273  0.480984 -0.745053  0.177944  0.642831   \n",
       "4  101812 -0.001137  0.055871  0.454105  0.175560  0.811216  0.557770   \n",
       "\n",
       "    rot_mag  \n",
       "0  5.113958  \n",
       "1  4.869329  \n",
       "2  5.880551  \n",
       "3  5.344059  \n",
       "4  1.420376  "
      ]
     },
     "execution_count": 6,
     "metadata": {},
     "output_type": "execute_result"
    }
   ],
   "source": [
    "df.head()"
   ]
  },
  {
   "cell_type": "code",
   "execution_count": 7,
   "metadata": {},
   "outputs": [
    {
     "data": {
      "text/plain": [
       "<matplotlib.axes._subplots.AxesSubplot at 0x11c4fb080>"
      ]
     },
     "execution_count": 7,
     "metadata": {},
     "output_type": "execute_result"
    },
    {
     "data": {
      "image/png": "[encoded data removed]",
      "text/plain": [
       "<Figure size 432x288 with 1 Axes>"
      ]
     },
     "metadata": {},
     "output_type": "display_data"
    }
   ],
   "source": [
    "df['rot_mag'].hist(bins=1000)"
   ]
  },
  {
   "cell_type": "code",
   "execution_count": 8,
   "metadata": {
    "collapsed": true
   },
   "outputs": [],
   "source": [
    "df.to_csv('flipped_neg_data_in_camera_coordinates.csv', index=False)"
   ]
  },
  {
   "cell_type": "code",
   "execution_count": 9,
   "metadata": {},
   "outputs": [
    {
     "data": {
      "text/html": [
       "<div>\n",
       "<style scoped>\n",
       "    .dataframe tbody tr th:only-of-type {\n",
       "        vertical-align: middle;\n",
       "    }\n",
       "\n",
       "    .dataframe tbody tr th {\n",
       "        vertical-align: top;\n",
       "    }\n",
       "\n",
       "    .dataframe thead th {\n",
       "        text-align: right;\n",
       "    }\n",
       "</style>\n",
       "<table border=\"1\" class=\"dataframe\">\n",
       "  <thead>\n",
       "    <tr style=\"text-align: right;\">\n",
       "      <th></th>\n",
       "      <th>id</th>\n",
       "      <th>x</th>\n",
       "      <th>y</th>\n",
       "      <th>z</th>\n",
       "      <th>rx</th>\n",
       "      <th>ry</th>\n",
       "      <th>rz</th>\n",
       "      <th>rot_mag</th>\n",
       "    </tr>\n",
       "  </thead>\n",
       "  <tbody>\n",
       "    <tr>\n",
       "      <th>0</th>\n",
       "      <td>101807</td>\n",
       "      <td>0.015793</td>\n",
       "      <td>-0.088000</td>\n",
       "      <td>0.712694</td>\n",
       "      <td>-0.773557</td>\n",
       "      <td>0.633598</td>\n",
       "      <td>0.012752</td>\n",
       "      <td>5.113958</td>\n",
       "    </tr>\n",
       "    <tr>\n",
       "      <th>1</th>\n",
       "      <td>101808</td>\n",
       "      <td>0.008519</td>\n",
       "      <td>0.031129</td>\n",
       "      <td>0.467747</td>\n",
       "      <td>-0.812471</td>\n",
       "      <td>-0.165665</td>\n",
       "      <td>0.558969</td>\n",
       "      <td>4.869329</td>\n",
       "    </tr>\n",
       "    <tr>\n",
       "      <th>2</th>\n",
       "      <td>101809</td>\n",
       "      <td>0.029964</td>\n",
       "      <td>0.048911</td>\n",
       "      <td>0.561772</td>\n",
       "      <td>-0.923947</td>\n",
       "      <td>0.366458</td>\n",
       "      <td>0.109682</td>\n",
       "      <td>5.880551</td>\n",
       "    </tr>\n",
       "    <tr>\n",
       "      <th>3</th>\n",
       "      <td>101811</td>\n",
       "      <td>-0.015806</td>\n",
       "      <td>0.026273</td>\n",
       "      <td>0.480984</td>\n",
       "      <td>-0.745053</td>\n",
       "      <td>0.177944</td>\n",
       "      <td>0.642831</td>\n",
       "      <td>5.344059</td>\n",
       "    </tr>\n",
       "    <tr>\n",
       "      <th>4</th>\n",
       "      <td>101812</td>\n",
       "      <td>-0.001137</td>\n",
       "      <td>0.055871</td>\n",
       "      <td>0.454105</td>\n",
       "      <td>0.175560</td>\n",
       "      <td>0.811216</td>\n",
       "      <td>0.557770</td>\n",
       "      <td>1.420376</td>\n",
       "    </tr>\n",
       "  </tbody>\n",
       "</table>\n",
       "</div>"
      ],
      "text/plain": [
       "       id         x         y         z        rx        ry        rz  \\\n",
       "0  101807  0.015793 -0.088000  0.712694 -0.773557  0.633598  0.012752   \n",
       "1  101808  0.008519  0.031129  0.467747 -0.812471 -0.165665  0.558969   \n",
       "2  101809  0.029964  0.048911  0.561772 -0.923947  0.366458  0.109682   \n",
       "3  101811 -0.015806  0.026273  0.480984 -0.745053  0.177944  0.642831   \n",
       "4  101812 -0.001137  0.055871  0.454105  0.175560  0.811216  0.557770   \n",
       "\n",
       "    rot_mag  \n",
       "0  5.113958  \n",
       "1  4.869329  \n",
       "2  5.880551  \n",
       "3  5.344059  \n",
       "4  1.420376  "
      ]
     },
     "execution_count": 9,
     "metadata": {},
     "output_type": "execute_result"
    }
   ],
   "source": [
    "df2 = pd.read_csv('flipped_neg_data_in_camera_coordinates.csv', delimiter=',')\n",
    "df2.head()"
   ]
  },
  {
   "cell_type": "code",
   "execution_count": null,
   "metadata": {
    "collapsed": true
   },
   "outputs": [],
   "source": []
  }
 ],
 "metadata": {
  "kernelspec": {
   "display_name": "Python 3",
   "language": "python",
   "name": "python3"
  },
  "language_info": {
   "codemirror_mode": {
    "name": "ipython",
    "version": 3
   },
   "file_extension": ".py",
   "mimetype": "text/x-python",
   "name": "python",
   "nbconvert_exporter": "python",
   "pygments_lexer": "ipython3",
   "version": "3.6.4"
  }
 },
 "nbformat": 4,
 "nbformat_minor": 2
}
